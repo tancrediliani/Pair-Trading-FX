{
 "cells": [
  {
   "cell_type": "markdown",
   "id": "174fd8ef",
   "metadata": {},
   "source": [
    "# Forex Pairs Trading Strategy Implementation\n",
    "\n",
    "Implementation of the cointegration-based pairs trading strategy following the paper methodology.\n",
    "\n",
    "## Paper Methodology\n",
    "1. **Rolling Window Approach**: Test cointegration on training windows (63, 128, 257 days)\n",
    "2. **Mean-Reversion Strategy**: Generate z-score signals if cointegration is found\n",
    "3. **Parameter Optimization**: Test different combinations of:\n",
    "   - Training windows: 63, 128, 257 days\n",
    "   - Testing windows: 1, 5, 21, 63, 128 days  \n",
    "   - Z-score thresholds: ±1, ±2, ±3\n",
    "4. **Performance Evaluation**: Calculate risk-adjusted returns for all combinations\n",
    "\n",
    "## Steps\n",
    "1. Setup rolling window framework\n",
    "2. Implement cointegration testing on training windows\n",
    "3. Generate trading signals based on z-scores\n",
    "4. Backtest all parameter combinations\n",
    "5. Performance analysis and ranking"
   ]
  },
  {
   "cell_type": "code",
   "execution_count": 1,
   "id": "84be19ba",
   "metadata": {},
   "outputs": [],
   "source": [
    "import pandas as pd\n",
    "import numpy as np\n",
    "import matplotlib.pyplot as plt\n",
    "import seaborn as sns\n",
    "from datetime import datetime, timedelta\n",
    "from statsmodels.tsa.stattools import adfuller\n",
    "from sklearn.linear_model import LinearRegression\n",
    "from itertools import permutations\n",
    "from tqdm import tqdm\n",
    "import warnings\n",
    "warnings.filterwarnings('ignore')\n",
    "\n",
    "# Configuration\n",
    "import sys\n",
    "sys.path.append('../')\n",
    "from config import (CURRENCY_PAIRS, TRAINING_WINDOWS, TESTING_WINDOWS, \n",
    "                   Z_SCORE_THRESHOLDS, SIGNIFICANCE_LEVEL, RISK_FREE_RATE, HOLDING_THRESHOLD)\n",
    "\n",
    "# Display settings\n",
    "plt.style.use('seaborn-v0_8')"
   ]
  },
  {
   "cell_type": "code",
   "execution_count": 2,
   "id": "ce594c8c",
   "metadata": {},
   "outputs": [],
   "source": [
    "# Load transformed forex data\n",
    "forex_data = pd.read_csv('../data/forex_data.csv', index_col=0, parse_dates=True)\n",
    "log_data = np.log(forex_data)"
   ]
  },
  {
   "cell_type": "code",
   "execution_count": 3,
   "id": "92f12cbe",
   "metadata": {},
   "outputs": [],
   "source": [
    "def cointegration_test(x_log, y_log, significance_level=SIGNIFICANCE_LEVEL):\n",
    "    '''\n",
    "    Return True if x and y are cointegrated, False otherwise.\n",
    "    Also returns the cointegration coefficient (alpha) and the intercept.\n",
    "    '''\n",
    "    # Check individual stationarity\n",
    "    x_adf = adfuller(x_log)[1]\n",
    "    y_adf = adfuller(y_log)[1]\n",
    "    if x_adf < significance_level or y_adf < significance_level:\n",
    "        return False, 0, 0  # Return False if either series is not stationary\n",
    "    # Perform cointegration test\n",
    "    x_val = pd.DataFrame(x_log)\n",
    "    y_val = y_log\n",
    "    reg = LinearRegression(fit_intercept = True)\n",
    "    reg.fit(x_val,y_val)\n",
    "    alpha = reg.coef_[0]\n",
    "    intercept = reg.intercept_\n",
    "    prediction = reg.predict(x_val)\n",
    "    res = y_val - prediction\n",
    "    # Perform ADF test on residuals\n",
    "    adfuller_result = adfuller(res)\n",
    "    return (adfuller_result[1] < significance_level), alpha, intercept"
   ]
  },
  {
   "cell_type": "code",
   "execution_count": 4,
   "id": "0d7094d3",
   "metadata": {},
   "outputs": [],
   "source": [
    "def calculate_spread(x, y, alpha, intercept):\n",
    "    '''\n",
    "    Calculate the spread between two series x_log and y_log using the cointegration coefficient (alpha) and intercept.\n",
    "    '''\n",
    "    x = np.array(x)\n",
    "    y = np.array(y)\n",
    "    \n",
    "    return y - (alpha * x + intercept)"
   ]
  },
  {
   "cell_type": "code",
   "execution_count": 5,
   "id": "8208039a",
   "metadata": {},
   "outputs": [],
   "source": [
    "def calculate_z_score(spread, mean_spread, std_spread):\n",
    "    \"\"\"\n",
    "    Calculate the Z-score of a series.\n",
    "    \"\"\"\n",
    "    return (spread - mean_spread) / std_spread"
   ]
  },
  {
   "cell_type": "code",
   "execution_count": 6,
   "id": "8bddf9dc",
   "metadata": {},
   "outputs": [],
   "source": [
    "def generate_signal(z_score, z_score_threshold):\n",
    "    \"\"\"\n",
    "    Generate trading signals based on the Z-score and threshold.\n",
    "    \"\"\"\n",
    "    if z_score > z_score_threshold:\n",
    "        return -1  # Short signal\n",
    "    elif z_score < -z_score_threshold:\n",
    "        return 1   # Long signal\n",
    "    else:\n",
    "        return 0   # No signal"
   ]
  },
  {
   "cell_type": "code",
   "execution_count": 7,
   "id": "5017ec1e",
   "metadata": {},
   "outputs": [],
   "source": [
    "def close_position(position, z_score, holding_period, holding_threshold=None):\n",
    "    \"\"\"\n",
    "    Close the current position.\n",
    "    \"\"\"\n",
    "    flag = False\n",
    "    # Holding period logic\n",
    "    if holding_threshold is not None:\n",
    "        # Check if the holding period exceeds the threshold\n",
    "        if holding_period >= holding_threshold:\n",
    "            flag = True\n",
    "\n",
    "    if position == 1 and (z_score >= 0 or flag):  # Long position\n",
    "        return True\n",
    "    \n",
    "    elif position == -1 and (z_score <= 0 or flag):  # Short position\n",
    "        return True\n",
    "    \n",
    "    return False  # Do not close the position"
   ]
  },
  {
   "cell_type": "code",
   "execution_count": 8,
   "id": "75df598c",
   "metadata": {},
   "outputs": [],
   "source": [
    "def backtest(pair, training_window, testing_window, z_score_threshold, holding_threshold):\n",
    "    \"\"\"\n",
    "    Backtest the trading strategy for a given currency pair and windows.\n",
    "    \"\"\"\n",
    "    x_name, y_name = pair\n",
    "    x_log = log_data[x_name]\n",
    "    y_log = log_data[y_name]\n",
    "\n",
    "    # Split data into training and testing sets\n",
    "    train_start = 0\n",
    "    train_end = training_window\n",
    "    test_start = training_window\n",
    "    test_end = test_start + testing_window\n",
    "\n",
    "    all_returns = []\n",
    "    position = 0\n",
    "    holding_period = 0\n",
    "\n",
    "    while test_end <= len(x_log):\n",
    "        # Extract training and testing data\n",
    "        x_train = x_log[train_start:train_end]\n",
    "        y_train = y_log[train_start:train_end]\n",
    "        x_test = x_log[test_start:test_end]\n",
    "        y_test = y_log[test_start:test_end]\n",
    "\n",
    "        # Perform cointegration test\n",
    "        is_cointegrated, alpha, intercept = cointegration_test(x_train, y_train)\n",
    "\n",
    "        # Calculate spread and Z-score for training data\n",
    "        spread_train = calculate_spread(x_train, y_train, alpha, intercept)\n",
    "        mean_spread = spread_train.mean()\n",
    "        std_spread = spread_train.std()\n",
    "\n",
    "        \n",
    "        if not is_cointegrated:\n",
    "            all_returns.extend([0.0] * testing_window) # No returns if not cointegrated\n",
    "        else:\n",
    "            for t in range(testing_window):\n",
    "                current_day = test_start + t\n",
    "\n",
    "                # Skip first day\n",
    "                if current_day <= 0:\n",
    "                    all_returns.append(0.0)\n",
    "                    continue\n",
    "\n",
    "                x_t = x_log[current_day]\n",
    "                y_t = y_log[current_day]\n",
    "                x_t_1 = x_log[current_day - 1]\n",
    "                y_t_1 = y_log[current_day - 1]\n",
    "\n",
    "                # Calculate spread and Z-score\n",
    "                spread_t_1 = calculate_spread(x_t_1, y_t_1, alpha, intercept) # Calculate spread for the previous day\n",
    "                spread_t = calculate_spread(x_t, y_t, alpha, intercept) # Calculate spread for the current day\n",
    "                z_score = calculate_z_score(spread_t_1, mean_spread, std_spread) # Calculate Z-score for the previous day\n",
    "\n",
    "                # Generate trading signal\n",
    "                signal = generate_signal(z_score, z_score_threshold)\n",
    "\n",
    "                if position == 0:\n",
    "                    if signal == 1:\n",
    "                        position = 1\n",
    "                        holding_period = 1\n",
    "                    elif signal == -1:\n",
    "                        position = -1\n",
    "                        holding_period = 1\n",
    "                    all_returns.append(0.0) # No return on the first day of the position\n",
    "\n",
    "                elif position == 1:  # Long position\n",
    "                    if close_position(position, z_score, holding_period, holding_threshold):\n",
    "                        position = 0\n",
    "                        print(f\"Closing long position on {current_day} with z-score {z_score:.2f}\")\n",
    "                        holding_period = 0\n",
    "                    else:\n",
    "                        holding_period += 1\n",
    "                    all_returns.append(spread_t - spread_t_1)  # Calculate return on closing position\n",
    "\n",
    "                elif position == -1:  # Short position\n",
    "                    if close_position(position, z_score, holding_period, holding_threshold):\n",
    "                        position = 0\n",
    "                        #print(f\"Closing short position on {current_day} with z-score {z_score:.2f}\")\n",
    "                        holding_period = 0\n",
    "                    else:\n",
    "                        holding_period += 1\n",
    "                    all_returns.append(spread_t_1 - spread_t)  # Calculate return on closing position\n",
    "\n",
    "            \n",
    "\n",
    "\n",
    "        # Shift the windows\n",
    "        train_start += testing_window\n",
    "        train_end += testing_window\n",
    "        test_start += testing_window\n",
    "        test_end += testing_window\n",
    "\n",
    "    return all_returns\n"
   ]
  },
  {
   "cell_type": "code",
   "execution_count": 9,
   "id": "d698d070",
   "metadata": {},
   "outputs": [],
   "source": [
    "def calculate_metrics(returns):\n",
    "    \"\"\"\n",
    "    Calculate risk-adjusted performance metrics from daily log returns.\n",
    "\n",
    "    Parameters:\n",
    "    - returns: array-like. Daily log returns of the strategy or asset.\n",
    "\n",
    "    Returns:\n",
    "    - dict: Dictionary containing the following metrics:\n",
    "        - ann_ret: Annualised expected return (log).\n",
    "        - ann_std_ret: Annualised standard deviation (volatility).\n",
    "        - sharpe: Sharpe ratio (excess return over volatility).\n",
    "        - sortino: Sortino ratio (excess return over downside deviation).\n",
    "        - max_drawdown: Maximum drawdown (absolute value).\n",
    "        - calmar: Calmar ratio (return over max drawdown).\n",
    "    \"\"\"\n",
    "    ann_ret = np.mean(returns) * 252\n",
    "\n",
    "    ann_std_ret = np.std(returns, ddof = 1) * np.sqrt(252)\n",
    "\n",
    "    sharpe = (ann_ret - RISK_FREE_RATE) / ann_std_ret\n",
    "\n",
    "    target = RISK_FREE_RATE / 252\n",
    "    neg_ret = returns[returns < target]\n",
    "    ann_std_down = np.sqrt(np.mean((neg_ret - target)**2)) * np.sqrt(252)\n",
    "    sortino = (ann_ret - RISK_FREE_RATE) / ann_std_down\n",
    "\n",
    "    cum_returns = np.exp(np.cumsum(returns))\n",
    "    rolling_max = np.maximum.accumulate(cum_returns)\n",
    "    drawdowns = (cum_returns - rolling_max) / rolling_max\n",
    "    max_drawdown = abs(np.min(drawdowns))\n",
    "\n",
    "    calmar = ann_ret / max_drawdown\n",
    "\n",
    "    return {\n",
    "        \"ann_ret\": ann_ret,\n",
    "        \"ann_std_ret\": ann_std_ret,\n",
    "        \"sharpe\": sharpe,\n",
    "        \"sortino\": sortino,\n",
    "        \"max_drawdown\": max_drawdown,\n",
    "        \"calmar\": calmar\n",
    "    }"
   ]
  },
  {
   "cell_type": "code",
   "execution_count": 10,
   "id": "10744e0c",
   "metadata": {},
   "outputs": [],
   "source": [
    "def run_full_backtest(TRAINING_WINDOWS = TRAINING_WINDOWS, TESTING_WINDOWS = TESTING_WINDOWS, Z_SCORE_THRESHOLDS = Z_SCORE_THRESHOLDS, HOLDING_THRESHOLD = HOLDING_THRESHOLD):\n",
    "    \"\"\"\n",
    "    Run full backtest for each combination.\n",
    "    \n",
    "    Parameters:\n",
    "    - TRAINING_WINDOWS: List of possible training windows.\n",
    "    - TESTING_WINDOWS: List of possible testing windows.\n",
    "    - Z_SCORE_THRESHOLDS: List of possible z-thresholds.\n",
    "    - HOLDING_THRESHOLD: Threshold for holding period.\n",
    "    \n",
    "    Returns:\n",
    "    - Dataframe: Results of all the combinations\n",
    "    \"\"\"\n",
    "    currency_pairs = list(permutations(log_data.columns, 2))\n",
    "    results = []\n",
    "    \n",
    "    # Total iterations\n",
    "    total_iterations = len(TRAINING_WINDOWS) * len(TESTING_WINDOWS) * len(Z_SCORE_THRESHOLDS) * len(currency_pairs)\n",
    "    \n",
    "    # Progress bar\n",
    "    with tqdm(total = total_iterations, desc = \"Running backtest\") as pbar:\n",
    "        for train_w in TRAINING_WINDOWS:\n",
    "            for test_w in TESTING_WINDOWS:\n",
    "                for z_thresh in Z_SCORE_THRESHOLDS:\n",
    "                    for pair in currency_pairs:\n",
    "                        # Update description\n",
    "                        pbar.set_postfix({\n",
    "                            'train': train_w, 'test': test_w, \n",
    "                            'z': z_thresh, 'pair': f\"{pair[0]}-{pair[1]}\"\n",
    "                        })\n",
    "                        \n",
    "                        # Run backtest\n",
    "                        returns = np.array(backtest(pair, train_w, test_w, z_thresh, HOLDING_THRESHOLD))\n",
    "\n",
    "                        # Calculate metrics\n",
    "                        metrics = calculate_metrics(returns)\n",
    "                        \n",
    "                        # Save results\n",
    "                        results.append({\n",
    "                            'pair': pair,\n",
    "                            'train_window': train_w,\n",
    "                            'test_window': test_w,\n",
    "                            'z_threshold': z_thresh,\n",
    "                            'returns': returns,\n",
    "                            **metrics  # Unpack metrics dictionary\n",
    "                        })\n",
    "                        \n",
    "                        # Update bar\n",
    "                        pbar.update(1)\n",
    "    \n",
    "    return pd.DataFrame(results)"
   ]
  },
  {
   "cell_type": "code",
   "execution_count": null,
   "id": "01ab25ce",
   "metadata": {},
   "outputs": [
    {
     "name": "stderr",
     "output_type": "stream",
     "text": [
      "Running backtest:   0%|          | 0/42 [00:00<?, ?it/s]"
     ]
    },
    {
     "name": "stderr",
     "output_type": "stream",
     "text": [
      "Running backtest:   0%|          | 0/42 [00:00<?, ?it/s, train=257, test=21, z=3, pair=EURUSD-GBPUSD]"
     ]
    },
    {
     "name": "stdout",
     "output_type": "stream",
     "text": [
      "Closing long position on 1256 with z-score 0.45\n"
     ]
    },
    {
     "name": "stderr",
     "output_type": "stream",
     "text": [
      "Running backtest:   2%|▏         | 1/42 [00:01<01:05,  1.59s/it, train=257, test=21, z=3, pair=EURUSD-JPYUSD]"
     ]
    },
    {
     "name": "stdout",
     "output_type": "stream",
     "text": [
      "Closing long position on 4121 with z-score 0.20\n",
      "Closing long position on 4256 with z-score 0.16\n"
     ]
    },
    {
     "name": "stderr",
     "output_type": "stream",
     "text": [
      "Running backtest:   5%|▍         | 2/42 [00:03<01:04,  1.61s/it, train=257, test=21, z=3, pair=EURUSD-CHFUSD]"
     ]
    },
    {
     "name": "stdout",
     "output_type": "stream",
     "text": [
      "Closing long position on 3947 with z-score 0.06\n",
      "Closing long position on 265 with z-score 2.14\n",
      "Closing long position on 1793 with z-score 0.00\n",
      "Closing long position on 3166 with z-score 0.05\n"
     ]
    },
    {
     "name": "stderr",
     "output_type": "stream",
     "text": [
      "Running backtest:   7%|▋         | 3/42 [00:04<01:03,  1.63s/it, train=257, test=21, z=3, pair=EURUSD-CADUSD]"
     ]
    },
    {
     "name": "stdout",
     "output_type": "stream",
     "text": [
      "Closing long position on 4289 with z-score 0.82\n",
      "Closing long position on 3050 with z-score 0.04\n"
     ]
    },
    {
     "name": "stderr",
     "output_type": "stream",
     "text": [
      "Running backtest:  10%|▉         | 4/42 [00:06<01:02,  1.65s/it, train=257, test=21, z=3, pair=EURUSD-AUDUSD]"
     ]
    },
    {
     "name": "stdout",
     "output_type": "stream",
     "text": [
      "Closing long position on 3659 with z-score 1.15\n"
     ]
    },
    {
     "name": "stderr",
     "output_type": "stream",
     "text": [
      "Running backtest:  14%|█▍        | 6/42 [00:10<01:01,  1.70s/it, train=257, test=21, z=3, pair=GBPUSD-EURUSD]"
     ]
    },
    {
     "name": "stdout",
     "output_type": "stream",
     "text": [
      "Closing long position on 2822 with z-score 0.62\n"
     ]
    },
    {
     "name": "stderr",
     "output_type": "stream",
     "text": [
      "Running backtest:  17%|█▋        | 7/42 [00:11<00:58,  1.67s/it, train=257, test=21, z=3, pair=GBPUSD-JPYUSD]"
     ]
    },
    {
     "name": "stdout",
     "output_type": "stream",
     "text": [
      "Closing long position on 3446 with z-score 0.39\n",
      "Closing long position on 3951 with z-score 0.22\n"
     ]
    }
   ],
   "source": [
    "# Run backtest\n",
    "TRAINING_WINDOWS = [257]  # days\n",
    "TESTING_WINDOWS = [21]  # days\n",
    "Z_SCORE_THRESHOLDS = [3]  # standard deviations\n",
    "\n",
    "results_df = run_full_backtest(TRAINING_WINDOWS, TESTING_WINDOWS, Z_SCORE_THRESHOLDS, HOLDING_THRESHOLD)"
   ]
  },
  {
   "cell_type": "code",
   "execution_count": null,
   "id": "f825d81e",
   "metadata": {},
   "outputs": [],
   "source": [
    "def analyze_top_strategies(results_df, top_ns=[5, 10, 20, 30], plot=True):\n",
    "    \"\"\"\n",
    "    Analizza e aggrega le metriche delle top-N strategie per Sharpe ratio.\n",
    "    \n",
    "    Parametri:\n",
    "    - results_df: DataFrame con colonne ['returns', 'sharpe', ...]\n",
    "    - top_ns: lista di N da considerare (default: [5, 10, 20, 30])\n",
    "    - plot: se True, mostra il grafico delle cumulative returns\n",
    "    \n",
    "    Ritorna:\n",
    "    - agg_df: DataFrame delle metriche aggregate per ogni N\n",
    "    - cumulative_curves: dizionario N → curva cumulativa\n",
    "    \"\"\"\n",
    "    aggregated_metrics = {}\n",
    "    cumulative_curves = {}\n",
    "\n",
    "    for n in top_ns:\n",
    "        top_n = results_df.sort_values(\"sharpe\", ascending=False).head(n)\n",
    "        returns_matrix = np.vstack(top_n[\"returns\"].values)\n",
    "        agg_returns = np.mean(returns_matrix, axis=0)\n",
    "        \n",
    "        metrics = calculate_metrics(agg_returns)\n",
    "        aggregated_metrics[n] = metrics\n",
    "        cumulative_curves[n] = np.exp(np.cumsum(agg_returns))\n",
    "\n",
    "    agg_df = pd.DataFrame(aggregated_metrics).T\n",
    "\n",
    "    if plot:\n",
    "        plt.figure(figsize=(10, 6))\n",
    "        for n, curve in cumulative_curves.items():\n",
    "            plt.plot(curve, label=f\"Top {n}\")\n",
    "        plt.title(\"Standardized Cumulative Returns (Top-N Strategies)\")\n",
    "        plt.xlabel(\"Days\")\n",
    "        plt.ylabel(\"Cumulative Return\")\n",
    "        plt.grid(True)\n",
    "        plt.legend()\n",
    "        plt.tight_layout()\n",
    "        plt.show()\n",
    "\n",
    "    return agg_df, cumulative_curves"
   ]
  },
  {
   "cell_type": "code",
   "execution_count": null,
   "id": "0d11126c",
   "metadata": {},
   "outputs": [
    {
     "data": {
      "image/png": "[encoded data removed]",
      "text/plain": [
       "<Figure size 1000x600 with 1 Axes>"
      ]
     },
     "metadata": {},
     "output_type": "display_data"
    },
    {
     "name": "stdout",
     "output_type": "stream",
     "text": [
      "     ann_ret  ann_std_ret    sharpe   sortino  max_drawdown    calmar\n",
      "5   0.012755     0.013630  0.935788  0.568325      0.026244  0.486002\n",
      "10  0.007986     0.007129  1.120290  0.748518      0.010880  0.734011\n",
      "20  0.005959     0.005587  1.066576  0.759012      0.010476  0.568771\n",
      "30  0.004192     0.004371  0.959181  0.779606      0.008588  0.488166\n"
     ]
    }
   ],
   "source": [
    "agg_metrics_df, curves = analyze_top_strategies(results_df)\n",
    "print(agg_metrics_df)"
   ]
  }
 ],
 "metadata": {
  "kernelspec": {
   "display_name": "Python 3",
   "language": "python",
   "name": "python3"
  },
  "language_info": {
   "codemirror_mode": {
    "name": "ipython",
    "version": 3
   },
   "file_extension": ".py",
   "mimetype": "text/x-python",
   "name": "python",
   "nbconvert_exporter": "python",
   "pygments_lexer": "ipython3",
   "version": "3.12.1"
  }
 },
 "nbformat": 4,
 "nbformat_minor": 5
}
